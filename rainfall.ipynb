{
 "cells": [
  {
   "cell_type": "markdown",
   "id": "72e8ac7b",
   "metadata": {},
   "source": [
    "# Clean rainfall data"
   ]
  },
  {
   "cell_type": "code",
   "execution_count": 1,
   "id": "5c56ab84",
   "metadata": {},
   "outputs": [
    {
     "name": "stderr",
     "output_type": "stream",
     "text": [
      "/Users/ilenapeng/.pyenv/versions/3.9.7/lib/python3.9/site-packages/pandas/compat/__init__.py:124: UserWarning: Could not import the lzma module. Your installed Python is incomplete. Attempting to use lzma compression will result in a RuntimeError.\n",
      "  warnings.warn(msg)\n"
     ]
    }
   ],
   "source": [
    "import pandas as pd"
   ]
  },
  {
   "cell_type": "code",
   "execution_count": 2,
   "id": "5b4d1bdc",
   "metadata": {},
   "outputs": [],
   "source": [
    "# rain data is from here: https://www.weather.gov/wrh/Climate?wfo=mtr and was then copy-pasted into a spreadsheet\n",
    "# T = Trace, barely enough to be quantifiable. Replacing with 0\n",
    "rain_df = pd.read_csv('rainfall_raw.csv', na_values='T')\n",
    "rain_df = rain_df.fillna(0)"
   ]
  },
  {
   "cell_type": "code",
   "execution_count": 3,
   "id": "23151097",
   "metadata": {},
   "outputs": [],
   "source": [
    "# export\n",
    "rain_df.to_csv('rainfall.csv', index=False)"
   ]
  }
 ],
 "metadata": {
  "kernelspec": {
   "display_name": "Python 3 (ipykernel)",
   "language": "python",
   "name": "python3"
  },
  "language_info": {
   "codemirror_mode": {
    "name": "ipython",
    "version": 3
   },
   "file_extension": ".py",
   "mimetype": "text/x-python",
   "name": "python",
   "nbconvert_exporter": "python",
   "pygments_lexer": "ipython3",
   "version": "3.9.7"
  }
 },
 "nbformat": 4,
 "nbformat_minor": 5
}
