{
 "cells": [
  {
   "cell_type": "markdown",
   "id": "d90c9919",
   "metadata": {},
   "source": [
    "# Scrape data on creeks"
   ]
  },
  {
   "cell_type": "code",
   "execution_count": 1,
   "id": "1e51f978",
   "metadata": {},
   "outputs": [
    {
     "name": "stderr",
     "output_type": "stream",
     "text": [
      "/Users/ilenapeng/.pyenv/versions/3.9.7/lib/python3.9/site-packages/pandas/compat/__init__.py:124: UserWarning: Could not import the lzma module. Your installed Python is incomplete. Attempting to use lzma compression will result in a RuntimeError.\n",
      "  warnings.warn(msg)\n"
     ]
    }
   ],
   "source": [
    "import pandas as pd\n",
    "\n",
    "from selenium import webdriver\n",
    "from selenium.webdriver.common.by import By\n",
    "from selenium.webdriver.support.ui import WebDriverWait\n",
    "from selenium.webdriver.support import expected_conditions as EC\n",
    "from selenium.webdriver.support.ui import Select\n",
    "\n",
    "from webdriver_manager.chrome import ChromeDriverManager\n",
    "\n",
    "import requests\n",
    "from bs4 import BeautifulSoup\n",
    "\n",
    "import re"
   ]
  },
  {
   "cell_type": "code",
   "execution_count": 2,
   "id": "47eafa9d",
   "metadata": {},
   "outputs": [
    {
     "name": "stderr",
     "output_type": "stream",
     "text": [
      "\n",
      "\n",
      "====== WebDriver manager ======\n",
      "Current google-chrome version is 97.0.4692\n",
      "Get LATEST chromedriver version for 97.0.4692 google-chrome\n",
      "Driver [/Users/ilenapeng/.wdm/drivers/chromedriver/mac64/97.0.4692.71/chromedriver] found in cache\n",
      "/var/folders/9x/ttxn_gwj0592mr6h8s5y29980000gn/T/ipykernel_51447/1503906442.py:1: DeprecationWarning: executable_path has been deprecated, please pass in a Service object\n",
      "  driver = webdriver.Chrome(ChromeDriverManager().install())\n"
     ]
    }
   ],
   "source": [
    "driver = webdriver.Chrome(ChromeDriverManager().install())"
   ]
  },
  {
   "cell_type": "markdown",
   "id": "609896a6",
   "metadata": {},
   "source": [
    "### Stevens Creek above Hwy 85 near Central Ave"
   ]
  },
  {
   "cell_type": "code",
   "execution_count": 3,
   "id": "a4390425",
   "metadata": {},
   "outputs": [],
   "source": [
    "driver.get(\"https://valleywateralert.org/scvwd/historicdata/qsgi_historicdata_setup.php\")"
   ]
  },
  {
   "cell_type": "code",
   "execution_count": 4,
   "id": "4e3e1c34",
   "metadata": {},
   "outputs": [],
   "source": [
    "# Select 5035 Stevens Creek above Hwy 85 near Central Ave\n",
    "Select(driver.find_element(By.ID, 'single_sensor')).select_by_value(\"5035\")"
   ]
  },
  {
   "cell_type": "code",
   "execution_count": 5,
   "id": "3ccdb02b",
   "metadata": {},
   "outputs": [],
   "source": [
    "# Select Start Month - December\n",
    "Select(driver.find_element(By.ID, 'month_single_sensor1')).select_by_value(\"12\")\n",
    "\n",
    "# Select Start Day - 1st\n",
    "Select(driver.find_element(By.ID, 'date_single_sensor1')).select_by_value(\"01\")\n",
    "\n",
    "# Select Start Year - 2021\n",
    "Select(driver.find_element(By.ID, 'year_single_sensor1')).select_by_value(\"2021\")\n",
    "\n",
    "# Select End Month - January\n",
    "Select(driver.find_element(By.ID, 'month_single_sensor2')).select_by_value(\"01\")\n",
    "\n",
    "# Select End Day - 15th\n",
    "Select(driver.find_element(By.ID, 'date_single_sensor2')).select_by_value(\"15\")\n",
    "\n",
    "# Select End Year - 2022\n",
    "Select(driver.find_element(By.ID, 'year_single_sensor2')).select_by_value(\"2022\")\n",
    "\n",
    "# Select Time Interval - All Data (This wouldn't load when I selected other time frames)\n",
    "Select(driver.find_element(By.ID, 'time_interval_single_sensor')).select_by_value(\"0\")"
   ]
  },
  {
   "cell_type": "code",
   "execution_count": 6,
   "id": "b99eb30d",
   "metadata": {},
   "outputs": [],
   "source": [
    "# Click \"Get Historical Data\"\n",
    "driver.find_element(By.XPATH, '//*[@id=\"CenterContent\"]/div[3]/form/input').click()"
   ]
  },
  {
   "cell_type": "code",
   "execution_count": 7,
   "id": "b45c116e",
   "metadata": {},
   "outputs": [],
   "source": [
    "doc = BeautifulSoup(driver.page_source)"
   ]
  },
  {
   "cell_type": "code",
   "execution_count": 8,
   "id": "213303a1",
   "metadata": {},
   "outputs": [
    {
     "data": {
      "text/plain": [
       "4058"
      ]
     },
     "execution_count": 8,
     "metadata": {},
     "output_type": "execute_result"
    }
   ],
   "source": [
    "data = []\n",
    "for row in doc.find_all('tr')[2:]:\n",
    "    each_row = {}\n",
    "    each_row['DateTime']=row.find('td', {'id':'DateandTime'}).string\n",
    "    each_row['Stage']=row.find('td', {'id':'Stage'}).string\n",
    "    each_row['FlowRate']=row.find('td', {'id':'FlowRate'}).string\n",
    "    data.append(each_row)\n",
    "len(data)"
   ]
  },
  {
   "cell_type": "code",
   "execution_count": 9,
   "id": "834d22ac",
   "metadata": {},
   "outputs": [
    {
     "data": {
      "text/html": [
       "<div>\n",
       "<style scoped>\n",
       "    .dataframe tbody tr th:only-of-type {\n",
       "        vertical-align: middle;\n",
       "    }\n",
       "\n",
       "    .dataframe tbody tr th {\n",
       "        vertical-align: top;\n",
       "    }\n",
       "\n",
       "    .dataframe thead th {\n",
       "        text-align: right;\n",
       "    }\n",
       "</style>\n",
       "<table border=\"1\" class=\"dataframe\">\n",
       "  <thead>\n",
       "    <tr style=\"text-align: right;\">\n",
       "      <th></th>\n",
       "      <th>DateTime</th>\n",
       "      <th>Stage</th>\n",
       "      <th>FlowRate</th>\n",
       "      <th>Loc</th>\n",
       "    </tr>\n",
       "  </thead>\n",
       "  <tbody>\n",
       "    <tr>\n",
       "      <th>0</th>\n",
       "      <td>01/15/2022 12:00:00 AM</td>\n",
       "      <td>2.39</td>\n",
       "      <td>0.0</td>\n",
       "      <td>Above Hwy 85</td>\n",
       "    </tr>\n",
       "    <tr>\n",
       "      <th>1</th>\n",
       "      <td>01/14/2022 11:45:00 PM</td>\n",
       "      <td>2.39</td>\n",
       "      <td>0.0</td>\n",
       "      <td>Above Hwy 85</td>\n",
       "    </tr>\n",
       "    <tr>\n",
       "      <th>2</th>\n",
       "      <td>01/14/2022 11:30:00 PM</td>\n",
       "      <td>2.39</td>\n",
       "      <td>0.0</td>\n",
       "      <td>Above Hwy 85</td>\n",
       "    </tr>\n",
       "    <tr>\n",
       "      <th>3</th>\n",
       "      <td>01/14/2022 11:15:00 PM</td>\n",
       "      <td>2.39</td>\n",
       "      <td>0.0</td>\n",
       "      <td>Above Hwy 85</td>\n",
       "    </tr>\n",
       "    <tr>\n",
       "      <th>4</th>\n",
       "      <td>01/14/2022 11:00:00 PM</td>\n",
       "      <td>2.39</td>\n",
       "      <td>0.0</td>\n",
       "      <td>Above Hwy 85</td>\n",
       "    </tr>\n",
       "  </tbody>\n",
       "</table>\n",
       "</div>"
      ],
      "text/plain": [
       "                 DateTime Stage FlowRate           Loc\n",
       "0  01/15/2022 12:00:00 AM  2.39      0.0  Above Hwy 85\n",
       "1  01/14/2022 11:45:00 PM  2.39      0.0  Above Hwy 85\n",
       "2  01/14/2022 11:30:00 PM  2.39      0.0  Above Hwy 85\n",
       "3  01/14/2022 11:15:00 PM  2.39      0.0  Above Hwy 85\n",
       "4  01/14/2022 11:00:00 PM  2.39      0.0  Above Hwy 85"
      ]
     },
     "execution_count": 9,
     "metadata": {},
     "output_type": "execute_result"
    }
   ],
   "source": [
    "creek_above85_df = pd.DataFrame(data)\n",
    "creek_above85_df['Loc'] = 'Above Hwy 85'\n",
    "creek_above85_df.head()"
   ]
  },
  {
   "cell_type": "markdown",
   "id": "de2e160d",
   "metadata": {},
   "source": [
    "### Stevens Creek below Stevens Creek Reservoir"
   ]
  },
  {
   "cell_type": "code",
   "execution_count": 10,
   "id": "ea8820b2",
   "metadata": {},
   "outputs": [],
   "source": [
    "driver.get(\"https://valleywateralert.org/scvwd/historicdata/qsgi_historicdata_setup.php\")"
   ]
  },
  {
   "cell_type": "code",
   "execution_count": 11,
   "id": "38bdf8aa",
   "metadata": {},
   "outputs": [],
   "source": [
    "# Select 5044 Stevens Creek below Stevens Creek Reservoir\n",
    "Select(driver.find_element(By.ID, 'single_sensor')).select_by_value(\"5044\")"
   ]
  },
  {
   "cell_type": "code",
   "execution_count": 12,
   "id": "1dc98b4a",
   "metadata": {},
   "outputs": [],
   "source": [
    "# Select Start Month - December\n",
    "Select(driver.find_element(By.ID, 'month_single_sensor1')).select_by_value(\"12\")\n",
    "\n",
    "# Select Start Day - 1st\n",
    "Select(driver.find_element(By.ID, 'date_single_sensor1')).select_by_value(\"01\")\n",
    "\n",
    "# Select Start Year - 2021\n",
    "Select(driver.find_element(By.ID, 'year_single_sensor1')).select_by_value(\"2021\")\n",
    "\n",
    "# Select End Month - January\n",
    "Select(driver.find_element(By.ID, 'month_single_sensor2')).select_by_value(\"01\")\n",
    "\n",
    "# Select End Day - 15th\n",
    "Select(driver.find_element(By.ID, 'date_single_sensor2')).select_by_value(\"15\")\n",
    "\n",
    "# Select End Year - 2022\n",
    "Select(driver.find_element(By.ID, 'year_single_sensor2')).select_by_value(\"2022\")\n",
    "\n",
    "# Select Time Interval - All Data (This wouldn't load when I selected other time frames)\n",
    "Select(driver.find_element(By.ID, 'time_interval_single_sensor')).select_by_value(\"0\")"
   ]
  },
  {
   "cell_type": "code",
   "execution_count": 13,
   "id": "00da35f7",
   "metadata": {},
   "outputs": [],
   "source": [
    "# Click \"Get Historical Data\"\n",
    "driver.find_element(By.XPATH, '//*[@id=\"CenterContent\"]/div[3]/form/input').click()"
   ]
  },
  {
   "cell_type": "code",
   "execution_count": 14,
   "id": "ea6e2b62",
   "metadata": {},
   "outputs": [],
   "source": [
    "doc = BeautifulSoup(driver.page_source)"
   ]
  },
  {
   "cell_type": "code",
   "execution_count": 15,
   "id": "ad8f2a54",
   "metadata": {},
   "outputs": [
    {
     "data": {
      "text/plain": [
       "4060"
      ]
     },
     "execution_count": 15,
     "metadata": {},
     "output_type": "execute_result"
    }
   ],
   "source": [
    "data = []\n",
    "for row in doc.find_all('tr')[2:]:\n",
    "    each_row = {}\n",
    "    each_row['DateTime']=row.find('td', {'id':'DateandTime'}).string\n",
    "    each_row['Stage']=row.find('td', {'id':'Stage'}).string\n",
    "    each_row['FlowRate']=row.find('td', {'id':'FlowRate'}).string\n",
    "    data.append(each_row)\n",
    "len(data)"
   ]
  },
  {
   "cell_type": "code",
   "execution_count": 16,
   "id": "01454cc2",
   "metadata": {},
   "outputs": [
    {
     "data": {
      "text/html": [
       "<div>\n",
       "<style scoped>\n",
       "    .dataframe tbody tr th:only-of-type {\n",
       "        vertical-align: middle;\n",
       "    }\n",
       "\n",
       "    .dataframe tbody tr th {\n",
       "        vertical-align: top;\n",
       "    }\n",
       "\n",
       "    .dataframe thead th {\n",
       "        text-align: right;\n",
       "    }\n",
       "</style>\n",
       "<table border=\"1\" class=\"dataframe\">\n",
       "  <thead>\n",
       "    <tr style=\"text-align: right;\">\n",
       "      <th></th>\n",
       "      <th>DateTime</th>\n",
       "      <th>Stage</th>\n",
       "      <th>FlowRate</th>\n",
       "      <th>Loc</th>\n",
       "    </tr>\n",
       "  </thead>\n",
       "  <tbody>\n",
       "    <tr>\n",
       "      <th>0</th>\n",
       "      <td>01/15/2022 12:00:00 AM</td>\n",
       "      <td>2.39</td>\n",
       "      <td>8.3</td>\n",
       "      <td>Below Reservoir</td>\n",
       "    </tr>\n",
       "    <tr>\n",
       "      <th>1</th>\n",
       "      <td>01/14/2022 11:45:00 PM</td>\n",
       "      <td>2.39</td>\n",
       "      <td>8.3</td>\n",
       "      <td>Below Reservoir</td>\n",
       "    </tr>\n",
       "    <tr>\n",
       "      <th>2</th>\n",
       "      <td>01/14/2022 11:30:00 PM</td>\n",
       "      <td>2.39</td>\n",
       "      <td>8.3</td>\n",
       "      <td>Below Reservoir</td>\n",
       "    </tr>\n",
       "    <tr>\n",
       "      <th>3</th>\n",
       "      <td>01/14/2022 11:15:00 PM</td>\n",
       "      <td>2.39</td>\n",
       "      <td>8.3</td>\n",
       "      <td>Below Reservoir</td>\n",
       "    </tr>\n",
       "    <tr>\n",
       "      <th>4</th>\n",
       "      <td>01/14/2022 11:00:00 PM</td>\n",
       "      <td>2.39</td>\n",
       "      <td>8.3</td>\n",
       "      <td>Below Reservoir</td>\n",
       "    </tr>\n",
       "  </tbody>\n",
       "</table>\n",
       "</div>"
      ],
      "text/plain": [
       "                 DateTime Stage FlowRate              Loc\n",
       "0  01/15/2022 12:00:00 AM  2.39      8.3  Below Reservoir\n",
       "1  01/14/2022 11:45:00 PM  2.39      8.3  Below Reservoir\n",
       "2  01/14/2022 11:30:00 PM  2.39      8.3  Below Reservoir\n",
       "3  01/14/2022 11:15:00 PM  2.39      8.3  Below Reservoir\n",
       "4  01/14/2022 11:00:00 PM  2.39      8.3  Below Reservoir"
      ]
     },
     "execution_count": 16,
     "metadata": {},
     "output_type": "execute_result"
    }
   ],
   "source": [
    "creek_below_reservoir_df = pd.DataFrame(data)\n",
    "creek_below_reservoir_df['Loc'] = 'Below Reservoir'\n",
    "creek_below_reservoir_df.head()"
   ]
  },
  {
   "cell_type": "markdown",
   "id": "cd4f7587",
   "metadata": {},
   "source": [
    "### Stevens Creek above Stevens Creek Reservoir (Subject to Swimmers Dams)"
   ]
  },
  {
   "cell_type": "code",
   "execution_count": 17,
   "id": "51b58e46",
   "metadata": {},
   "outputs": [],
   "source": [
    "driver.get(\"https://valleywateralert.org/scvwd/historicdata/qsgi_historicdata_setup.php\")"
   ]
  },
  {
   "cell_type": "code",
   "execution_count": 18,
   "id": "14bf3c7d",
   "metadata": {},
   "outputs": [],
   "source": [
    "# Select 5045 Stevens Ck. above Stevens Creek Reservoir (Subject to Swimmers Dams)\n",
    "Select(driver.find_element(By.ID, 'single_sensor')).select_by_value(\"5045\")"
   ]
  },
  {
   "cell_type": "code",
   "execution_count": 19,
   "id": "84555c29",
   "metadata": {},
   "outputs": [],
   "source": [
    "# Select Start Month - December\n",
    "Select(driver.find_element(By.ID, 'month_single_sensor1')).select_by_value(\"12\")\n",
    "\n",
    "# Select Start Day - 1st\n",
    "Select(driver.find_element(By.ID, 'date_single_sensor1')).select_by_value(\"01\")\n",
    "\n",
    "# Select Start Year - 2021\n",
    "Select(driver.find_element(By.ID, 'year_single_sensor1')).select_by_value(\"2021\")\n",
    "\n",
    "# Select End Month - January\n",
    "Select(driver.find_element(By.ID, 'month_single_sensor2')).select_by_value(\"01\")\n",
    "\n",
    "# Select End Day - 15th\n",
    "Select(driver.find_element(By.ID, 'date_single_sensor2')).select_by_value(\"15\")\n",
    "\n",
    "# Select End Year - 2022\n",
    "Select(driver.find_element(By.ID, 'year_single_sensor2')).select_by_value(\"2022\")\n",
    "\n",
    "# Select Time Interval - All Data (This wouldn't load when I selected other time frames)\n",
    "Select(driver.find_element(By.ID, 'time_interval_single_sensor')).select_by_value(\"0\")"
   ]
  },
  {
   "cell_type": "code",
   "execution_count": 20,
   "id": "b95cbe8f",
   "metadata": {},
   "outputs": [],
   "source": [
    "# Click \"Get Historical Data\"\n",
    "driver.find_element(By.XPATH, '//*[@id=\"CenterContent\"]/div[3]/form/input').click()"
   ]
  },
  {
   "cell_type": "code",
   "execution_count": 21,
   "id": "d4712bec",
   "metadata": {},
   "outputs": [],
   "source": [
    "doc = BeautifulSoup(driver.page_source)"
   ]
  },
  {
   "cell_type": "code",
   "execution_count": 22,
   "id": "b52f4333",
   "metadata": {},
   "outputs": [
    {
     "data": {
      "text/plain": [
       "4063"
      ]
     },
     "execution_count": 22,
     "metadata": {},
     "output_type": "execute_result"
    }
   ],
   "source": [
    "data = []\n",
    "for row in doc.find_all('tr')[2:]:\n",
    "    each_row = {}\n",
    "    each_row['DateTime']=row.find('td', {'id':'DateandTime'}).string\n",
    "    each_row['Stage']=row.find('td', {'id':'Stage'}).string\n",
    "    each_row['FlowRate']=row.find('td', {'id':'FlowRate'}).string\n",
    "    data.append(each_row)\n",
    "len(data)"
   ]
  },
  {
   "cell_type": "code",
   "execution_count": 23,
   "id": "80126c55",
   "metadata": {},
   "outputs": [
    {
     "data": {
      "text/html": [
       "<div>\n",
       "<style scoped>\n",
       "    .dataframe tbody tr th:only-of-type {\n",
       "        vertical-align: middle;\n",
       "    }\n",
       "\n",
       "    .dataframe tbody tr th {\n",
       "        vertical-align: top;\n",
       "    }\n",
       "\n",
       "    .dataframe thead th {\n",
       "        text-align: right;\n",
       "    }\n",
       "</style>\n",
       "<table border=\"1\" class=\"dataframe\">\n",
       "  <thead>\n",
       "    <tr style=\"text-align: right;\">\n",
       "      <th></th>\n",
       "      <th>DateTime</th>\n",
       "      <th>Stage</th>\n",
       "      <th>FlowRate</th>\n",
       "      <th>Loc</th>\n",
       "    </tr>\n",
       "  </thead>\n",
       "  <tbody>\n",
       "    <tr>\n",
       "      <th>0</th>\n",
       "      <td>01/15/2022 12:00:00 AM</td>\n",
       "      <td>4.16</td>\n",
       "      <td>3.1</td>\n",
       "      <td>Above Reservoir</td>\n",
       "    </tr>\n",
       "    <tr>\n",
       "      <th>1</th>\n",
       "      <td>01/14/2022 11:45:00 PM</td>\n",
       "      <td>4.16</td>\n",
       "      <td>3.1</td>\n",
       "      <td>Above Reservoir</td>\n",
       "    </tr>\n",
       "    <tr>\n",
       "      <th>2</th>\n",
       "      <td>01/14/2022 11:30:00 PM</td>\n",
       "      <td>4.16</td>\n",
       "      <td>3.1</td>\n",
       "      <td>Above Reservoir</td>\n",
       "    </tr>\n",
       "    <tr>\n",
       "      <th>3</th>\n",
       "      <td>01/14/2022 11:15:00 PM</td>\n",
       "      <td>4.16</td>\n",
       "      <td>3.1</td>\n",
       "      <td>Above Reservoir</td>\n",
       "    </tr>\n",
       "    <tr>\n",
       "      <th>4</th>\n",
       "      <td>01/14/2022 11:00:00 PM</td>\n",
       "      <td>4.16</td>\n",
       "      <td>3.1</td>\n",
       "      <td>Above Reservoir</td>\n",
       "    </tr>\n",
       "  </tbody>\n",
       "</table>\n",
       "</div>"
      ],
      "text/plain": [
       "                 DateTime Stage FlowRate              Loc\n",
       "0  01/15/2022 12:00:00 AM  4.16      3.1  Above Reservoir\n",
       "1  01/14/2022 11:45:00 PM  4.16      3.1  Above Reservoir\n",
       "2  01/14/2022 11:30:00 PM  4.16      3.1  Above Reservoir\n",
       "3  01/14/2022 11:15:00 PM  4.16      3.1  Above Reservoir\n",
       "4  01/14/2022 11:00:00 PM  4.16      3.1  Above Reservoir"
      ]
     },
     "execution_count": 23,
     "metadata": {},
     "output_type": "execute_result"
    }
   ],
   "source": [
    "creek_above_reservoir_df = pd.DataFrame(data)\n",
    "creek_above_reservoir_df['Loc'] = 'Above Reservoir'\n",
    "creek_above_reservoir_df.head()"
   ]
  },
  {
   "cell_type": "markdown",
   "id": "a9b7ad50",
   "metadata": {},
   "source": [
    "### Export all"
   ]
  },
  {
   "cell_type": "code",
   "execution_count": 25,
   "id": "d31e7687",
   "metadata": {},
   "outputs": [],
   "source": [
    "creek_above85_df.to_csv('creek_above85_raw.csv', index=False)\n",
    "creek_above_reservoir_df.to_csv('creek_above_reservoir_raw.csv', index=False)\n",
    "creek_below_reservoir_df.to_csv('creek_below_reservoir_raw.csv', index=False)"
   ]
  }
 ],
 "metadata": {
  "kernelspec": {
   "display_name": "Python 3 (ipykernel)",
   "language": "python",
   "name": "python3"
  },
  "language_info": {
   "codemirror_mode": {
    "name": "ipython",
    "version": 3
   },
   "file_extension": ".py",
   "mimetype": "text/x-python",
   "name": "python",
   "nbconvert_exporter": "python",
   "pygments_lexer": "ipython3",
   "version": "3.9.7"
  }
 },
 "nbformat": 4,
 "nbformat_minor": 5
}
