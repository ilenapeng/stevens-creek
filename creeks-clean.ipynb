{
 "cells": [
  {
   "cell_type": "markdown",
   "id": "34a1692b",
   "metadata": {},
   "source": [
    "# Clean and reshape data on creeks"
   ]
  },
  {
   "cell_type": "code",
   "execution_count": 1,
   "id": "a7f63d46",
   "metadata": {},
   "outputs": [
    {
     "name": "stderr",
     "output_type": "stream",
     "text": [
      "/Users/ilenapeng/.pyenv/versions/3.9.7/lib/python3.9/site-packages/pandas/compat/__init__.py:124: UserWarning: Could not import the lzma module. Your installed Python is incomplete. Attempting to use lzma compression will result in a RuntimeError.\n",
      "  warnings.warn(msg)\n"
     ]
    }
   ],
   "source": [
    "import pandas as pd"
   ]
  },
  {
   "cell_type": "code",
   "execution_count": 2,
   "id": "fbe99631",
   "metadata": {},
   "outputs": [],
   "source": [
    "above85_df = pd.read_csv('creek_above85_raw.csv')\n",
    "above_res_df = pd.read_csv('creek_above_reservoir_raw.csv')\n",
    "below_res_df = pd.read_csv('creek_below_reservoir_raw.csv')"
   ]
  },
  {
   "cell_type": "code",
   "execution_count": 3,
   "id": "649a0df7",
   "metadata": {},
   "outputs": [],
   "source": [
    "res_df = pd.read_csv('reservoir.csv')"
   ]
  },
  {
   "cell_type": "code",
   "execution_count": 4,
   "id": "b2c67114",
   "metadata": {},
   "outputs": [],
   "source": [
    "# To match 6-hour intervals with our reservoir data\n",
    "# keep 00:00, 06:00, 12:00, 18:00 -> 12:00:00 AM, 06:00:00 AM, 12:00:00 PM, 06:00:00 PM\n",
    "\n",
    "above85_df = above85_df[above85_df['DateTime'].str.contains(\"12:00:00|06:00:00\")]\n",
    "above_res_df = above_res_df[above_res_df['DateTime'].str.contains(\"12:00:00|06:00:00\")]\n",
    "below_res_df = below_res_df[below_res_df['DateTime'].str.contains(\"12:00:00|06:00:00\")]"
   ]
  },
  {
   "cell_type": "code",
   "execution_count": 5,
   "id": "3ff60f64",
   "metadata": {},
   "outputs": [],
   "source": [
    "# Reorder dataset to run chronologically instead of reverse chronologically\n",
    "above85_df = above85_df[::-1]\n",
    "above_res_df = above_res_df[::-1]\n",
    "below_res_df = below_res_df[::-1]"
   ]
  },
  {
   "cell_type": "code",
   "execution_count": 6,
   "id": "c979ff74",
   "metadata": {},
   "outputs": [
    {
     "data": {
      "text/plain": [
       "510"
      ]
     },
     "execution_count": 6,
     "metadata": {},
     "output_type": "execute_result"
    }
   ],
   "source": [
    "# Stack into one dataset\n",
    "creeks_df_list = [above85_df,above_res_df,below_res_df]\n",
    "\n",
    "creeks_df = pd.concat(creeks_df_list)\n",
    "len(creeks_df)"
   ]
  },
  {
   "cell_type": "code",
   "execution_count": 7,
   "id": "18b50f06",
   "metadata": {},
   "outputs": [],
   "source": [
    "# Export\n",
    "creeks_df.to_csv('creeks.csv', index=False)\n",
    "\n",
    "# above85_df.to_csv('creek_above85.csv', index=False)\n",
    "# above_res_df.to_csv('creek_above_reservoir.csv', index=False)\n",
    "# below_res_df.to_csv('creek_below_reservoir.csv', index=False)"
   ]
  },
  {
   "cell_type": "markdown",
   "id": "48848332",
   "metadata": {},
   "source": [
    "### Reshape data for plotting (For exploration in Datawrapper, ended up not using this)"
   ]
  },
  {
   "cell_type": "code",
   "execution_count": 8,
   "id": "eace0c66",
   "metadata": {},
   "outputs": [],
   "source": [
    "# Create df for only creek stage\n",
    "# stage_df = creeks_df.drop('FlowRate', 1)\n",
    "# stage_wide_df = stage_df.pivot(index='DateTime', columns='Loc', values='Stage')\n",
    "# stage_wide_df.head()"
   ]
  },
  {
   "cell_type": "code",
   "execution_count": 9,
   "id": "c7b3e9c1",
   "metadata": {},
   "outputs": [],
   "source": [
    "# Create df for only flow rate\n",
    "# flow_df = creeks_df.drop('Stage', 1)\n",
    "# flow_wide_df = flow_df.pivot(index='DateTime', columns='Loc', values='FlowRate')"
   ]
  },
  {
   "cell_type": "code",
   "execution_count": 10,
   "id": "10b77da4",
   "metadata": {},
   "outputs": [],
   "source": [
    "# stage_wide_df.to_csv('creek_stage.csv')\n",
    "# flow_wide_df.to_csv('creek_flowrate.csv')"
   ]
  }
 ],
 "metadata": {
  "kernelspec": {
   "display_name": "Python 3 (ipykernel)",
   "language": "python",
   "name": "python3"
  },
  "language_info": {
   "codemirror_mode": {
    "name": "ipython",
    "version": 3
   },
   "file_extension": ".py",
   "mimetype": "text/x-python",
   "name": "python",
   "nbconvert_exporter": "python",
   "pygments_lexer": "ipython3",
   "version": "3.9.7"
  }
 },
 "nbformat": 4,
 "nbformat_minor": 5
}
