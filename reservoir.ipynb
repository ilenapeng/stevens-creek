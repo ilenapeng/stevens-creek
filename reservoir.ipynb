{
 "cells": [
  {
   "cell_type": "markdown",
   "id": "0c780566",
   "metadata": {},
   "source": [
    "# Scrape data on reservoir"
   ]
  },
  {
   "cell_type": "code",
   "execution_count": 1,
   "id": "b116b04a",
   "metadata": {},
   "outputs": [
    {
     "name": "stderr",
     "output_type": "stream",
     "text": [
      "/Users/ilenapeng/.pyenv/versions/3.9.7/lib/python3.9/site-packages/pandas/compat/__init__.py:124: UserWarning: Could not import the lzma module. Your installed Python is incomplete. Attempting to use lzma compression will result in a RuntimeError.\n",
      "  warnings.warn(msg)\n"
     ]
    }
   ],
   "source": [
    "import pandas as pd\n",
    "\n",
    "from selenium import webdriver\n",
    "from selenium.webdriver.common.by import By\n",
    "from selenium.webdriver.support.ui import WebDriverWait\n",
    "from selenium.webdriver.support import expected_conditions as EC\n",
    "from selenium.webdriver.support.ui import Select\n",
    "\n",
    "from webdriver_manager.chrome import ChromeDriverManager\n",
    "\n",
    "import requests\n",
    "from bs4 import BeautifulSoup\n",
    "\n",
    "import re"
   ]
  },
  {
   "cell_type": "code",
   "execution_count": 2,
   "id": "d27f8469",
   "metadata": {},
   "outputs": [
    {
     "name": "stderr",
     "output_type": "stream",
     "text": [
      "\n",
      "\n",
      "====== WebDriver manager ======\n",
      "Current google-chrome version is 97.0.4692\n",
      "Get LATEST chromedriver version for 97.0.4692 google-chrome\n",
      "Driver [/Users/ilenapeng/.wdm/drivers/chromedriver/mac64/97.0.4692.71/chromedriver] found in cache\n",
      "/var/folders/9x/ttxn_gwj0592mr6h8s5y29980000gn/T/ipykernel_50578/1503906442.py:1: DeprecationWarning: executable_path has been deprecated, please pass in a Service object\n",
      "  driver = webdriver.Chrome(ChromeDriverManager().install())\n"
     ]
    }
   ],
   "source": [
    "driver = webdriver.Chrome(ChromeDriverManager().install())"
   ]
  },
  {
   "cell_type": "code",
   "execution_count": 3,
   "id": "16503179",
   "metadata": {},
   "outputs": [],
   "source": [
    "driver.get(\"https://valleywateralert.org/scvwd/historicdata/qrgi_historicdata_setup.php\")"
   ]
  },
  {
   "cell_type": "code",
   "execution_count": 4,
   "id": "d05eb745",
   "metadata": {},
   "outputs": [],
   "source": [
    "# Select Stevens Creek Reservoir\n",
    "Select(driver.find_element(By.ID, 'single_sensor')).select_by_value(\"4009\")"
   ]
  },
  {
   "cell_type": "code",
   "execution_count": 5,
   "id": "2427414f",
   "metadata": {},
   "outputs": [],
   "source": [
    "# Select End Month - December\n",
    "Select(driver.find_element(By.ID, 'month_single_sensor1')).select_by_value(\"12\")\n",
    "\n",
    "# Select End Day - 1st\n",
    "Select(driver.find_element(By.ID, 'date_single_sensor1')).select_by_value(\"01\")\n",
    "\n",
    "# Select End Year - 2021\n",
    "Select(driver.find_element(By.ID, 'year_single_sensor1')).select_by_value(\"2021\")"
   ]
  },
  {
   "cell_type": "code",
   "execution_count": 6,
   "id": "e8896e5f",
   "metadata": {},
   "outputs": [],
   "source": [
    "# Select Start Month - January\n",
    "Select(driver.find_element(By.ID, 'month_single_sensor2')).select_by_value(\"01\")\n",
    "\n",
    "# Select Start Day - 15th\n",
    "Select(driver.find_element(By.ID, 'date_single_sensor2')).select_by_value(\"15\")\n",
    "\n",
    "# Select Start Year - 2022\n",
    "Select(driver.find_element(By.ID, 'year_single_sensor2')).select_by_value(\"2022\")"
   ]
  },
  {
   "cell_type": "code",
   "execution_count": 7,
   "id": "186e8c7d",
   "metadata": {},
   "outputs": [],
   "source": [
    "# Select Time Interval\n",
    "Select(driver.find_element(By.ID, 'time_interval_single_sensor')).select_by_value(\"360\")"
   ]
  },
  {
   "cell_type": "code",
   "execution_count": 8,
   "id": "58284219",
   "metadata": {},
   "outputs": [],
   "source": [
    "# Click \"Get Historical Data\"\n",
    "driver.find_element(By.XPATH, '//*[@id=\"CenterContent\"]/div[3]/form/input').click()"
   ]
  },
  {
   "cell_type": "code",
   "execution_count": 9,
   "id": "209119b0",
   "metadata": {},
   "outputs": [],
   "source": [
    "doc = BeautifulSoup(driver.page_source)"
   ]
  },
  {
   "cell_type": "code",
   "execution_count": 10,
   "id": "b81d22f7",
   "metadata": {},
   "outputs": [
    {
     "data": {
      "text/plain": [
       "184"
      ]
     },
     "execution_count": 10,
     "metadata": {},
     "output_type": "execute_result"
    }
   ],
   "source": [
    "data = []\n",
    "for row in doc.find_all('tr')[2:]:\n",
    "    each_row = {}\n",
    "    each_row['DateTime']=row.find('td', {'id':'DateandTime'}).string\n",
    "    each_row['Elevation']=row.find('td', {'id':'ReservoirElevation'}).string\n",
    "    each_row['Storage']=row.find('td', {'id':'ReservoirStorage'}).string\n",
    "    each_row['Capacity']=row.find('td', {'id':'ReservoirCapacity'}).string\n",
    "    data.append(each_row)\n",
    "len(data)"
   ]
  },
  {
   "cell_type": "code",
   "execution_count": 11,
   "id": "ee257f1f",
   "metadata": {},
   "outputs": [
    {
     "data": {
      "text/html": [
       "<div>\n",
       "<style scoped>\n",
       "    .dataframe tbody tr th:only-of-type {\n",
       "        vertical-align: middle;\n",
       "    }\n",
       "\n",
       "    .dataframe tbody tr th {\n",
       "        vertical-align: top;\n",
       "    }\n",
       "\n",
       "    .dataframe thead th {\n",
       "        text-align: right;\n",
       "    }\n",
       "</style>\n",
       "<table border=\"1\" class=\"dataframe\">\n",
       "  <thead>\n",
       "    <tr style=\"text-align: right;\">\n",
       "      <th></th>\n",
       "      <th>DateTime</th>\n",
       "      <th>Elevation</th>\n",
       "      <th>Storage</th>\n",
       "      <th>Capacity</th>\n",
       "    </tr>\n",
       "  </thead>\n",
       "  <tbody>\n",
       "    <tr>\n",
       "      <th>0</th>\n",
       "      <td>11/30/2021 06:00:00</td>\n",
       "      <td>486.6</td>\n",
       "      <td>318.8</td>\n",
       "      <td>10.4</td>\n",
       "    </tr>\n",
       "    <tr>\n",
       "      <th>1</th>\n",
       "      <td>11/30/2021 12:00:00</td>\n",
       "      <td>486.6</td>\n",
       "      <td>318.8</td>\n",
       "      <td>10.4</td>\n",
       "    </tr>\n",
       "    <tr>\n",
       "      <th>2</th>\n",
       "      <td>11/30/2021 18:00:00</td>\n",
       "      <td>486.6</td>\n",
       "      <td>318.8</td>\n",
       "      <td>10.4</td>\n",
       "    </tr>\n",
       "    <tr>\n",
       "      <th>3</th>\n",
       "      <td>12/01/2021 00:00:00</td>\n",
       "      <td>486.6</td>\n",
       "      <td>318.8</td>\n",
       "      <td>10.4</td>\n",
       "    </tr>\n",
       "    <tr>\n",
       "      <th>4</th>\n",
       "      <td>12/01/2021 06:00:00</td>\n",
       "      <td>486.6</td>\n",
       "      <td>318.8</td>\n",
       "      <td>10.4</td>\n",
       "    </tr>\n",
       "  </tbody>\n",
       "</table>\n",
       "</div>"
      ],
      "text/plain": [
       "               DateTime Elevation Storage Capacity\n",
       "0  11/30/2021 06:00:00      486.6   318.8     10.4\n",
       "1  11/30/2021 12:00:00      486.6   318.8     10.4\n",
       "2  11/30/2021 18:00:00      486.6   318.8     10.4\n",
       "3  12/01/2021 00:00:00      486.6   318.8     10.4\n",
       "4  12/01/2021 06:00:00      486.6   318.8     10.4"
      ]
     },
     "execution_count": 11,
     "metadata": {},
     "output_type": "execute_result"
    }
   ],
   "source": [
    "reservoir_df = pd.DataFrame(data)\n",
    "reservoir_df.head()"
   ]
  },
  {
   "cell_type": "code",
   "execution_count": 12,
   "id": "3715744e",
   "metadata": {},
   "outputs": [],
   "source": [
    "# remove november 30th rows\n",
    "reservoir_df = reservoir_df.iloc[3: , :]\n",
    "\n",
    "reservoir_df.to_csv(\"reservoir.csv\", index=False)"
   ]
  }
 ],
 "metadata": {
  "kernelspec": {
   "display_name": "Python 3 (ipykernel)",
   "language": "python",
   "name": "python3"
  },
  "language_info": {
   "codemirror_mode": {
    "name": "ipython",
    "version": 3
   },
   "file_extension": ".py",
   "mimetype": "text/x-python",
   "name": "python",
   "nbconvert_exporter": "python",
   "pygments_lexer": "ipython3",
   "version": "3.9.7"
  }
 },
 "nbformat": 4,
 "nbformat_minor": 5
}
